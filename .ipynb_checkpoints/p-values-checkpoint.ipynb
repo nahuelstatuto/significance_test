{
 "cells": [
  {
   "cell_type": "code",
   "execution_count": 1,
   "id": "e5ad6b58",
   "metadata": {},
   "outputs": [
    {
     "name": "stderr",
     "output_type": "stream",
     "text": [
      "/home/nahuel.statuto/.conda/envs/hw_tf2.8/lib/python3.10/site-packages/scipy/__init__.py:146: UserWarning: A NumPy version >=1.16.5 and <1.23.0 is required for this version of SciPy (detected version 1.23.1\n",
      "  warnings.warn(f\"A NumPy version >={np_minversion} and <{np_maxversion}\"\n"
     ]
    }
   ],
   "source": [
    "# standard libraries\n",
    "import statsmodels.api as sm\n",
    "import pandas as pd\n",
    "import numpy as np\n",
    "import importlib\n",
    "import matplotlib.pyplot as plt\n",
    "from sklearn.preprocessing import StandardScaler\n",
    "import sys\n",
    "import warnings\n",
    "warnings.filterwarnings('ignore')\n",
    "\n",
    "# our libraries\n",
    "home_path = '/home/nahuel.statuto/p-values'\n",
    "sys.path.insert(0, home_path)\n",
    "\n",
    "import sfit as s_fit\n",
    "import functions as fn"
   ]
  },
  {
   "cell_type": "code",
   "execution_count": 2,
   "id": "56868069",
   "metadata": {},
   "outputs": [
    {
     "data": {
      "text/plain": [
       "<module 'sfit' from '/home/nahuel.statuto/p-values/sfit.py'>"
      ]
     },
     "execution_count": 2,
     "metadata": {},
     "output_type": "execute_result"
    }
   ],
   "source": [
    "importlib.reload(fn)\n",
    "importlib.reload(s_fit)"
   ]
  },
  {
   "cell_type": "code",
   "execution_count": 3,
   "id": "175a0f34",
   "metadata": {},
   "outputs": [
    {
     "ename": "NameError",
     "evalue": "name 'StandardScaler' is not defined",
     "output_type": "error",
     "traceback": [
      "\u001b[0;31m---------------------------------------------------------------------------\u001b[0m",
      "\u001b[0;31mNameError\u001b[0m                                 Traceback (most recent call last)",
      "Input \u001b[0;32mIn [3]\u001b[0m, in \u001b[0;36m<cell line: 6>\u001b[0;34m()\u001b[0m\n\u001b[1;32m      2\u001b[0m file_name \u001b[38;5;241m=\u001b[39m \u001b[38;5;124m'\u001b[39m\u001b[38;5;124mMWC_Survey_clean.xlsx\u001b[39m\u001b[38;5;124m'\u001b[39m\n\u001b[1;32m      4\u001b[0m df \u001b[38;5;241m=\u001b[39m fn\u001b[38;5;241m.\u001b[39mread_data(data_path,file_name)\n\u001b[0;32m----> 6\u001b[0m std \u001b[38;5;241m=\u001b[39m \u001b[43mStandardScaler\u001b[49m()\n\u001b[1;32m      7\u001b[0m data \u001b[38;5;241m=\u001b[39m df[df\u001b[38;5;241m.\u001b[39mcolumns[:\u001b[38;5;241m-\u001b[39m\u001b[38;5;241m3\u001b[39m]]\n\u001b[1;32m      8\u001b[0m X \u001b[38;5;241m=\u001b[39m std\u001b[38;5;241m.\u001b[39mfit_transform(data)\n",
      "\u001b[0;31mNameError\u001b[0m: name 'StandardScaler' is not defined"
     ]
    }
   ],
   "source": [
    "data_path = 'test'\n",
    "file_name = 'MWC_Survey_clean.xlsx'\n",
    "\n",
    "df = fn.read_data(data_path,file_name)\n",
    "\n",
    "std = StandardScaler()\n",
    "data = df[df.columns[:-3]]\n",
    "X = std.fit_transform(data)\n",
    "variable_names = list(data.columns)\n",
    "\n",
    "X = pd.DataFrame(X, columns = data.columns)\n",
    "X = sm.add_constant(X)\n",
    "y = (df[\"tech_scenario\"]/df[\"business_scenario\"]).values"
   ]
  },
  {
   "cell_type": "code",
   "execution_count": null,
   "id": "547f5b28",
   "metadata": {
    "scrolled": true
   },
   "outputs": [],
   "source": [
    "warnings.filterwarnings('ignore')\n",
    "res = fn.different_models(X, y, n_runs=80, layers=[[10],[20,10]], beta_vec=np.arange(2e-2,5.2e-2,0.2e-2), variable_names=variable_names)"
   ]
  },
  {
   "cell_type": "code",
   "execution_count": null,
   "id": "d58eecdf",
   "metadata": {},
   "outputs": [],
   "source": [
    "## OLS summary\n",
    "print(res[0][0].summary())\n",
    "## NN histograms\n",
    "for result in res[1:]:\n",
    "    fn.plot_heat_map(result[0], result[1], beta_vec=np.arange(2e-2,5.2e-2,0.2e-2))"
   ]
  },
  {
   "cell_type": "markdown",
   "id": "877f4761",
   "metadata": {},
   "source": [
    "# Using log(y) "
   ]
  },
  {
   "cell_type": "code",
   "execution_count": null,
   "id": "4fd5cc65",
   "metadata": {
    "scrolled": false
   },
   "outputs": [],
   "source": [
    "df = fn.read_data(data_path,file_name)\n",
    "\n",
    "std = StandardScaler()\n",
    "data = df[df.columns[:-3]]\n",
    "X = std.fit_transform(data)\n",
    "\n",
    "X = pd.DataFrame(X, columns = data.columns)\n",
    "X = sm.add_constant(X)\n",
    "y = np.log(df[\"tech_scenario\"]/df[\"business_scenario\"]).values\n",
    "variable_names = list(data.columns)\n",
    "\n",
    "res1 = fn.different_models(X, y, n_runs=80, layers=[[10],[20,10]], beta_vec=np.arange(2e-2,5.2e-2,0.2e-2), variable_names=variable_names)"
   ]
  },
  {
   "cell_type": "code",
   "execution_count": null,
   "id": "ff311310",
   "metadata": {},
   "outputs": [],
   "source": [
    "## OLS summary\n",
    "print(res1[0][0].summary())\n",
    "## NN histograms\n",
    "for result in res1[1:]:\n",
    "    fn.plot_heat_map(result[0], result[1], beta_vec=np.arange(2e-2,5.2e-2,0.2e-2))"
   ]
  },
  {
   "cell_type": "markdown",
   "id": "e9270a64",
   "metadata": {},
   "source": [
    "# Using logs in X"
   ]
  },
  {
   "cell_type": "code",
   "execution_count": null,
   "id": "a12d6657",
   "metadata": {},
   "outputs": [],
   "source": [
    "df = fn.read_data(data_path,file_name)\n",
    "\n",
    "std = StandardScaler()\n",
    "data = df[df.columns[:-3]]\n",
    "data['revenues_last_year'] = np.log(data['revenues_last_year']+0.1)\n",
    "data['investment_received'] = np.log(data['investment_received']+0.1)\n",
    "data['founded'] = np.log(data['founded'])\n",
    "\n",
    "X = std.fit_transform(data)\n",
    "X = pd.DataFrame(X, columns = data.columns)\n",
    "X = sm.add_constant(X)\n",
    "y = np.log(df[\"tech_scenario\"]/df[\"business_scenario\"]).values\n",
    "variable_names = list(data.columns)\n",
    "\n",
    "res2 = fn.different_models(X, y, n_runs=80, layers=[[10],[20,10]], beta_vec=np.arange(2e-2,5.2e-2,0.2e-2), variable_names=variable_names)"
   ]
  },
  {
   "cell_type": "code",
   "execution_count": null,
   "id": "bef4d33c",
   "metadata": {},
   "outputs": [],
   "source": [
    "## OLS summary\n",
    "print(res2[0][0].summary())\n",
    "## NN histograms\n",
    "for result in res2[1:]:\n",
    "    fn.plot_heat_map(result[0], result[1], beta_vec=np.arange(2e-2,5.2e-2,0.2e-2))"
   ]
  },
  {
   "cell_type": "markdown",
   "id": "42078d6c",
   "metadata": {},
   "source": [
    "# Summary"
   ]
  },
  {
   "cell_type": "code",
   "execution_count": null,
   "id": "f81553be",
   "metadata": {},
   "outputs": [],
   "source": [
    "linear, nn, nn_hidden_ = fn.get_r2([res,res1,res2])\n",
    "\n",
    "linear.insert(0,'OLS linear')\n",
    "nn.insert(0,'NN single-hidden')\n",
    "nn_hidden_.insert(0,'NN two-hidden')"
   ]
  },
  {
   "cell_type": "code",
   "execution_count": null,
   "id": "33f50d54",
   "metadata": {
    "scrolled": true
   },
   "outputs": [],
   "source": [
    "from tabulate import tabulate\n",
    "\n",
    "data = [linear,nn,nn_hidden_]\n",
    "  \n",
    "#define header names\n",
    "col_names = ['Architecture', 'Raw data', 'log(y)', 'log(y) and log(x_i)']\n",
    "  \n",
    "#display table\n",
    "print(tabulate(data, headers=col_names, tablefmt=\"fancy_grid\"))"
   ]
  }
 ],
 "metadata": {
  "kernelspec": {
   "display_name": "Python [conda env:.conda-hw_tf2.8]",
   "language": "python",
   "name": "conda-env-.conda-hw_tf2.8-py"
  },
  "language_info": {
   "codemirror_mode": {
    "name": "ipython",
    "version": 3
   },
   "file_extension": ".py",
   "mimetype": "text/x-python",
   "name": "python",
   "nbconvert_exporter": "python",
   "pygments_lexer": "ipython3",
   "version": "3.10.4"
  }
 },
 "nbformat": 4,
 "nbformat_minor": 5
}
